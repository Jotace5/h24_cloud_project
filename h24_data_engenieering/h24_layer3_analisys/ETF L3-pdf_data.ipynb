{
 "cells": [
  {
   "cell_type": "markdown",
   "metadata": {},
   "source": [
    "# Layer 3\n",
    "\n",
    "- Preprocesamiento de PDFs en Proyecto de OCR\n",
    "\n",
    "## Objetivo\n",
    "\n",
    "- Optimizar la calidad y consistencia de un conjunto de documentos PDF, con el objetivo de preparar los datos para el entrenamiento de un modelo de Reconocimiento Óptico de Caracteres (OCR).\n",
    "\n",
    "---\n",
    "\n",
    "## Metodologia\n",
    "\n",
    "\n",
    "## 1- Separación de Datos Según Calidad\n",
    "\n",
    "- **Propósito**: Separar los archivos a formatos de alta y baja calidad para entrenar el modelo.\n",
    "- **Metodología**: Se realiza la separación utilizando un script en Python que lee un archivo CSV que contiene metadatos de los archivos, incluido el productor. Luego, basándose en esta información, mueve los archivos a las carpetas correspondientes.\n",
    "\n",
    "## 2- Análisis de Calidad de Archivos PDF\n",
    "\n",
    "- **Propósito**: Analizar la calidad de los archivos PDF basándose en la fuente de creación del dato.\n",
    "- **Metodología**: Analizaremos la proporción y distribución de estos archivos y sus datos asociados, para determinar cuales son los ideales para entrenar el modelo.\n",
    "\n",
    "## 3- Segmentación de Archivos PDF\n",
    "\n",
    "- **Propósito**: Dividir los archivos PDF en secciones o segmentos más pequeños para un manejo más eficiente durante el entrenamiento.\n",
    "- **Metodología**: Utilizando herramientas específicas para PDF, se segmentarán los documentos para utilizar los más pequeños, maximizando la cantidad de información para entrenamiento.\n",
    "\n",
    "## 4- Subdivisión en carpetas de 1GB\n",
    "\n",
    "- **Propósito**: Organizar los archivos en carpetas de manera que cada carpeta no exceda un tamaño de 1GB para una gestión más sencilla.\n",
    "- **Metodología**: Se usará un script en Python que distribuirá los archivos en carpetas basado en su tamaño acumulado hasta que se alcance el límite de 1GB.\n",
    "\n",
    "## 5- Análisis de las 10 carpetas de High Quality Data\n",
    "\n",
    "- **Propósito**: Evaluar y asegurar la calidad de los datos dentro de las 10 carpetas etiquetadas como de alta calidad.\n",
    "- **Metodología**: Se llevará a cabo un análisis detallado de los archivos dentro de estas carpetas, verificando su integridad, relevancia y consistencia con los criterios de alta calidad.\n",
    "\n",
    "## 6- Maximización de archivos\n",
    "\n",
    "- **Propósito**: Se realizará una recolección de archivos para lograr conformar un último grupo de archivos de alta calidad para el entrenamiento del modelo.\n",
    "- **Metodología**: Se identificarán y agregarán nuevos archivos de alta calidad a la colección, asegurando que cumplan con los estándares requeridos y que mejoren la capacidad y precisión del modelo en entrenamiento.\n",
    "\n",
    "## Conclusion final\n",
    "\n",
    "---\n"
   ]
  },
  {
   "cell_type": "markdown",
   "metadata": {},
   "source": [
    "\n",
    "## 1 - Separación de Datos Según Calidad\n",
    "\n",
    "Para mejorar el proceso de entrenamiento del modelo, es útil separar los datos en dos grupos según su calidad. En particular, se ha observado que los archivos producidos por la máquina `Samsung-M4580FX` son de alta calidad. Por tanto, se decide dividir los archivos en dos grupos: \n",
    "\n",
    "1. **high_qtly_data**: Contiene los archivos con alta calidad, específicamente los producidos por `Samsung-M4580FX`.\n",
    "2. **low_qtly_data**: Contiene el resto de los archivos.\n",
    "\n",
    "### Proceso de Separación\n",
    "\n",
    "Se realiza la separación utilizando un script en Python que lee un archivo CSV que contiene metadatos de los archivos, incluido el productor. Luego, basándose en esta información, mueve los archivos a las carpetas correspondientes.\n"
   ]
  },
  {
   "cell_type": "code",
   "execution_count": null,
   "metadata": {},
   "outputs": [],
   "source": [
    "# Se crea un csv con la data de los archivos pdf en training data.\n",
    "\n",
    "import PyPDF2\n",
    "import os\n",
    "import csv\n",
    "\n",
    "def extract_metadata(pdf_path):\n",
    "    with open(pdf_path, 'rb') as f:\n",
    "        reader = PyPDF2.PdfReader(f)\n",
    "        metadata = reader.metadata\n",
    "        total_pages = len(reader.pages)\n",
    "    return {**metadata, 'TotalPages': total_pages} if metadata else {'TotalPages': total_pages}\n",
    "\n",
    "\n",
    "def process_directory(directory_path, output_csv):\n",
    "    with open(output_csv, 'w', newline='', encoding='utf-8') as csvfile:\n",
    "        fieldnames = ['Name', 'Producer', 'Creator', 'TotalPages', 'FileSize']\n",
    "        writer = csv.DictWriter(csvfile, fieldnames=fieldnames)\n",
    "        writer.writeheader()\n",
    "\n",
    "        for root, dirs, files in os.walk(directory_path):\n",
    "            for file in files:\n",
    "                if file.endswith(\".pdf\"):\n",
    "                    pdf_path = os.path.join(root, file)\n",
    "                    try:\n",
    "                        metadata = extract_metadata(pdf_path)\n",
    "                        file_size = os.path.getsize(pdf_path)\n",
    "                        writer.writerow({\n",
    "                            'Name': file,\n",
    "                            'Producer': metadata.get('/Producer', ''),\n",
    "                            'Creator': metadata.get('/Creator', ''),\n",
    "                            'TotalPages': metadata.get('TotalPages', ''),\n",
    "                            'FileSize': file_size,\n",
    "                        })\n",
    "                    except Exception as e:\n",
    "                        print(f\"Error processing {pdf_path}: {e}\")\n",
    "\n",
    "directory = r\"C:\\Users\\HP\\My Drive\\Inteligencia Artificial\\PROJECTS\\ML Ops - House24 - Form Recognizer\\ETF Layer2 - Pdf_datset\\Training Dataset\"\n",
    "output_file = 'training_data.csv'\n",
    "process_directory(directory, output_file)"
   ]
  },
  {
   "cell_type": "markdown",
   "metadata": {},
   "source": [
    "Se separan en high_qtly_data los archivos producidos por `Samsung-M4580FX` y en low_qtly_data el resto de los archivos."
   ]
  },
  {
   "cell_type": "code",
   "execution_count": null,
   "metadata": {},
   "outputs": [],
   "source": [
    "import pandas as pd\n",
    "import os\n",
    "import shutil\n",
    "\n",
    "# Ruta al archivo CSV\n",
    "csv_route = r'C:\\Users\\HP\\My Drive\\Inteligencia Artificial\\PROJECTS\\ML Ops - House24 - Form Recognizer\\ETF Layer2 - Pdf_datset\\metadata_3.0.csv'\n",
    "\n",
    "# Carpeta donde se encuentran actualmente los archivos y donde se crearán las nuevas carpetas 'high_qtly_data' y 'low_qtly_data'\n",
    "source_folder = r'C:\\Users\\HP\\My Drive\\Inteligencia Artificial\\PROJECTS\\ML Ops - House24 - Form Recognizer\\ETF Layer2 - Pdf_datset\\Training Dataset'\n",
    "\n",
    "# Definir rutas para las carpetas de alta y baja calidad\n",
    "high_quality_folder = os.path.join(source_folder, 'high_qtly_data')\n",
    "low_quality_folder = os.path.join(source_folder, 'low_qtly_data')\n",
    "\n",
    "# Crear las carpetas si no existen\n",
    "if not os.path.exists(high_quality_folder):\n",
    "    os.makedirs(high_quality_folder)\n",
    "    \n",
    "if not os.path.exists(low_quality_folder):\n",
    "    os.makedirs(low_quality_folder)\n",
    "\n",
    "# Leer el archivo CSV\n",
    "data = pd.read_csv(csv_route)\n",
    "\n",
    "# Separar los archivos según el productor\n",
    "for index, row in data.iterrows():\n",
    "    file_name = row['Name']\n",
    "    producer = row['Producer']\n",
    "\n",
    "    source_file_path = os.path.join(source_folder, file_name)\n",
    "    \n",
    "    # Si el productor es 'Samsung-M4580FX', mover a 'high_qtly_data'; de lo contrario, mover a 'low_qtly_data'\n",
    "    if producer == 'Samsung-M4580FX':\n",
    "        dest_file_path = os.path.join(high_quality_folder, file_name)\n",
    "    else:\n",
    "        dest_file_path = os.path.join(low_quality_folder, file_name)\n",
    "    \n",
    "    # Comprobar si el archivo existe en la ubicación original antes de moverlo\n",
    "    if os.path.exists(source_file_path):\n",
    "        shutil.move(source_file_path, dest_file_path)"
   ]
  },
  {
   "cell_type": "markdown",
   "metadata": {},
   "source": [
    "Creacion de un csv con los datos de los archivos de alta calidad, que serán estudiados. "
   ]
  },
  {
   "cell_type": "code",
   "execution_count": null,
   "metadata": {},
   "outputs": [],
   "source": [
    "# Se crea un csv con la metadata de los archivos pdf\n",
    "\n",
    "import PyPDF2\n",
    "import os\n",
    "import csv\n",
    "\n",
    "def extract_metadata(pdf_path):\n",
    "    with open(pdf_path, 'rb') as f:\n",
    "        reader = PyPDF2.PdfReader(f)\n",
    "        metadata = reader.metadata\n",
    "        total_pages = len(reader.pages)\n",
    "    return {**metadata, 'TotalPages': total_pages} if metadata else {'TotalPages': total_pages}\n",
    "\n",
    "\n",
    "def process_directory(directory_path, output_csv):\n",
    "    with open(output_csv, 'w', newline='', encoding='utf-8') as csvfile:\n",
    "        fieldnames = ['Name', 'Producer', 'TotalPages', 'FileSize']\n",
    "        writer = csv.DictWriter(csvfile, fieldnames=fieldnames)\n",
    "        writer.writeheader()\n",
    "\n",
    "        for root, dirs, files in os.walk(directory_path):\n",
    "            for file in files:\n",
    "                if file.endswith(\".pdf\"):\n",
    "                    pdf_path = os.path.join(root, file)\n",
    "                    try:\n",
    "                        metadata = extract_metadata(pdf_path)\n",
    "                        file_size = os.path.getsize(pdf_path)\n",
    "                        writer.writerow({\n",
    "                            'Name': file,\n",
    "                            'Producer': metadata.get('/Producer', ''),\n",
    "                            'TotalPages': metadata.get('TotalPages', ''),\n",
    "                            'FileSize': file_size,\n",
    "                        })\n",
    "                    except Exception as e:\n",
    "                        print(f\"Error processing {pdf_path}: {e}\")\n",
    "\n",
    "directory = r\"C:\\Users\\HP\\My Drive\\Inteligencia Artificial\\PROJECTS\\ML Ops - House24 - Form Recognizer\\ETF Layer2 - Pdf_datset\\Training Dataset\\high_qtly_data\"\n",
    "output_file = 'training_hq_data_1.0.csv'\n",
    "process_directory(directory, output_file)"
   ]
  },
  {
   "cell_type": "markdown",
   "metadata": {},
   "source": [
    "Analisis de los datos de alta calidad:\n",
    "\n",
    "- **Total de archivos**: 6416.\n"
   ]
  },
  {
   "cell_type": "markdown",
   "metadata": {},
   "source": [
    "## 2 -Análisis de Calidad de Archivos basado en la fuente de creación del Dato\n",
    "\n",
    "Dentro del conjunto de datos con el que trabajamos, identificamos que la calidad superior de archivos es producida por la máquina `Samsung-M4580FX`. Dado este hallazgo, se ha tomado la decisión de segmentar nuestro conjunto de datos en dos categorías principales:\n",
    "\n",
    "        - Archivos generados por `Samsung-M4580FX`\n",
    "        - Archivos generados por otras máquinas\n",
    "\n",
    "### Objetivo\n",
    "\n",
    "El propósito de esta segmentación es analizar la proporción de archivos en cada categoría. Una vez realizado este análisis, evaluaremos si es necesario aplicar técnicas de balanceo para garantizar que nuestros modelos de Machine Learning no estén sesgados hacia una categoría específica.\n",
    "\n",
    "### Procedimiento\n",
    "\n",
    "        1. Generaremos un CSV que contenga la totalidad de archivos, donde se especificará qué archivos fueron generados por la máquina `Samsung-M4580FX` y cuáles por otras máquinas.\n",
    "        2. Analizaremos la proporción y distribución de estos archivos.\n",
    "        3. Tomaremos decisiones basadas en estos análisis para determinar los pasos a seguir en el preprocesamiento de datos.\n",
    "\n",
    "### Resultados esperados\n",
    "\n",
    "Al final de este proceso, esperamos tener una clara comprensión de la distribución de nuestros datos y haber tomado decisiones informadas sobre cualquier necesidad de balanceo.\n",
    "\n",
    "**Nota**: Este análisis es crítico para asegurar que nuestros modelos de Machine Learning sean robustos y generalicen bien a datos no vistos previamente."
   ]
  },
  {
   "cell_type": "markdown",
   "metadata": {},
   "source": [
    "El estudio del CSV incluirá:\n",
    "\n",
    "- Carga del CSV.\n",
    "- Análisis descriptivo básico.\n",
    "- Visualización de los datos.\n",
    "- Identificación de posibles anomalías o puntos de interés."
   ]
  },
  {
   "cell_type": "code",
   "execution_count": null,
   "metadata": {},
   "outputs": [],
   "source": [
    "import pandas as pd\n",
    "import matplotlib.pyplot as plt\n",
    "import seaborn as sns\n",
    "\n",
    "# 1. Carga del CSV\n",
    "csv_path = r\"C:\\Users\\HP\\My Drive\\Inteligencia Artificial\\PROJECTS\\ML Ops - House24 - Form Recognizer\\ETF Layer2 - Pdf_datset\\metadata_3.0.csv\"  #  ruta CSV``\n",
    "data = pd.read_csv(csv_path)\n",
    "\n",
    "# Convertir el tamaño de los archivos de bytes a KB\n",
    "data['FileSize'] = data['FileSize'] / 1024\n",
    "\n",
    "# 2. Análisis descriptivo básico\n",
    "print(\"Descripción básica de los datos:\")\n",
    "print(data.describe(include='all'))\n",
    "\n",
    "print(\"\\nInformación sobre datos faltantes:\")\n",
    "print(data.isnull().sum())\n",
    "\n",
    "# 3. Visualización de los datos\n",
    "# Histograma para el tamaño de los archivos\n",
    "plt.figure(figsize=(10, 6))\n",
    "sns.histplot(data['FileSize'], bins=50, color='blue', kde=True)\n",
    "plt.title('Distribución del Tamaño de Archivos')\n",
    "plt.xlabel('Tamaño de Archivo')\n",
    "plt.ylabel('Cantidad de Archivos')\n",
    "plt.show()\n",
    "\n",
    "# Conteo de archivos por productor\n",
    "plt.figure(figsize=(10, 6))\n",
    "data['Producer'].value_counts().plot(kind='barh', color='green')\n",
    "plt.title('Cantidad de Archivos por Productor')\n",
    "plt.xlabel('Cantidad de Archivos')\n",
    "plt.ylabel('Productor')\n",
    "plt.gca().invert_yaxis()\n",
    "plt.show()\n",
    "\n",
    "# Conteo de archivos por creador\n",
    "plt.figure(figsize=(10, 6))\n",
    "data['Creator'].value_counts().plot(kind='barh', color='orange')\n",
    "plt.title('Cantidad de Archivos por Creador')\n",
    "plt.xlabel('Cantidad de Archivos')\n",
    "plt.ylabel('Creador')\n",
    "plt.gca().invert_yaxis()\n",
    "plt.show()\n",
    "\n",
    "# Histograma para el número total de páginas\n",
    "plt.figure(figsize=(10, 6))\n",
    "sns.histplot(data['TotalPages'], bins=50, color='red', kde=True)\n",
    "plt.title('Distribución del Total de Páginas por Archivo')\n",
    "plt.xlabel('Total de Páginas')\n",
    "plt.ylabel('Cantidad de Archivos')\n",
    "plt.show()\n",
    "\n",
    "# 4. Identificación de posibles anomalías o puntos de interés\n",
    "# Por ejemplo, identificar archivos que tienen un tamaño extremadamente grande\n",
    "large_files = data[data['FileSize'] > data['FileSize'].quantile(0.95)]\n",
    "print(\"\\nArchivos que tienen un tamaño superior al 95% de los demás:\")\n",
    "print(large_files)\n"
   ]
  },
  {
   "cell_type": "code",
   "execution_count": null,
   "metadata": {},
   "outputs": [],
   "source": [
    "# Importando las bibliotecas necesarias\n",
    "import pandas as pd\n",
    "import matplotlib.pyplot as plt\n",
    "import seaborn as sns\n",
    "\n",
    "# Histograma para la columna 'FileSize'\n",
    "plt.figure(figsize=(10, 6))\n",
    "sns.histplot(data['FileSize'], bins=50, kde=True)\n",
    "plt.title('Distribución del Tamaño de Archivo (KB)')\n",
    "plt.xlabel('Tamaño de Archivo (KB)')\n",
    "plt.ylabel('Cantidad de Archivos')\n",
    "plt.show()\n",
    "\n",
    "# Histograma para la columna 'TotalPages'\n",
    "plt.figure(figsize=(10, 6))\n",
    "sns.histplot(data['TotalPages'], bins=30, kde=True)\n",
    "plt.title('Distribución del Número Total de Páginas')\n",
    "plt.xlabel('Total de Páginas')\n",
    "plt.ylabel('Cantidad de Archivos')\n",
    "plt.show()\n",
    "\n",
    "# Diagrama de caja para la columna 'FileSize'\n",
    "plt.figure(figsize=(10, 6))\n",
    "sns.boxplot(y=data['FileSize'])\n",
    "plt.title('Diagrama de Caja para el Tamaño de Archivo (KB)')\n",
    "plt.ylabel('Tamaño de Archivo (KB)')\n",
    "plt.show()\n",
    "\n",
    "# Diagrama de caja para la columna 'TotalPages'\n",
    "plt.figure(figsize=(10, 6))\n",
    "sns.boxplot(y=data['TotalPages'])\n",
    "plt.title('Diagrama de Caja para el Número Total de Páginas')\n",
    "plt.ylabel('Total de Páginas')\n",
    "plt.show()"
   ]
  },
  {
   "cell_type": "code",
   "execution_count": 1,
   "metadata": {},
   "outputs": [
    {
     "name": "stdout",
     "output_type": "stream",
     "text": [
      "        TotalPages     FileSize\n",
      "count  6416.000000  6416.000000\n",
      "mean      3.650249     1.791254\n",
      "std       2.078174     1.239655\n",
      "min       1.000000     0.409972\n",
      "25%       3.000000     1.063280\n",
      "50%       3.000000     1.386945\n",
      "75%       4.000000     2.071894\n",
      "max      27.000000    22.007888\n",
      "\n",
      "Datos faltantes por columna:\n",
      "Name          0\n",
      "Producer      0\n",
      "TotalPages    0\n",
      "FileSize      0\n",
      "dtype: int64\n"
     ]
    },
    {
     "data": {
      "image/png": "[encoded data removed]",
      "text/plain": [
       "<Figure size 1200x800 with 2 Axes>"
      ]
     },
     "metadata": {},
     "output_type": "display_data"
    },
    {
     "data": {
      "image/png": "[encoded data removed]",
      "text/plain": [
       "<Figure size 1500x600 with 1 Axes>"
      ]
     },
     "metadata": {},
     "output_type": "display_data"
    },
    {
     "data": {
      "image/png": "[encoded data removed]",
      "text/plain": [
       "<Figure size 1000x600 with 1 Axes>"
      ]
     },
     "metadata": {},
     "output_type": "display_data"
    }
   ],
   "source": [
    "import pandas as pd\n",
    "import matplotlib.pyplot as plt\n",
    "import seaborn as sns\n",
    "\n",
    "# Leer el CSV\n",
    "df = pd.read_csv(r'C:\\Users\\HP\\My Drive\\Inteligencia Artificial\\PROJECTS\\ML Ops - House24 - Form Recognizer\\Layer3 -Pdf_dataset\\training_hq_data_1.0.csv')\n",
    "\n",
    "# Convertir tamaños de B a MB\n",
    "df['FileSize'] = df['FileSize'] / 1024 / 1024\n",
    "\n",
    "# Resumen descriptivo\n",
    "print(df.describe())\n",
    "\n",
    "# Información sobre datos faltantes\n",
    "print(\"\\nDatos faltantes por columna:\")\n",
    "print(df.isnull().sum())\n",
    "\n",
    "# Visualización de la distribución de TotalPages y FileSize\n",
    "fig, axs = plt.subplots(nrows=2, figsize=(12, 8))\n",
    "\n",
    "sns.histplot(df['TotalPages'], kde=True, ax=axs[0])\n",
    "axs[0].set_title('Distribución del número total de páginas')\n",
    "\n",
    "sns.histplot(df['FileSize'], kde=True, ax=axs[1])\n",
    "axs[1].set_title('Distribución del tamaño de archivo')\n",
    "\n",
    "plt.tight_layout()\n",
    "plt.show()\n",
    "\n",
    "# Distribución de los productores\n",
    "plt.figure(figsize=(15, 6))\n",
    "sns.countplot(y='Producer', data=df, order=df['Producer'].value_counts().index)\n",
    "plt.title('Distribución de productores')\n",
    "plt.show()\n",
    "\n",
    "# Relación entre TotalPages y FileSize\n",
    "plt.figure(figsize=(10, 6))\n",
    "sns.scatterplot(x='TotalPages', y='FileSize', data=df)\n",
    "plt.title('Relación entre TotalPages y FileSize')\n",
    "plt.show()"
   ]
  },
  {
   "cell_type": "markdown",
   "metadata": {},
   "source": [
    "## 3 - Segmentacion de archivos"
   ]
  },
  {
   "cell_type": "markdown",
   "metadata": {},
   "source": [
    "**Tamaño de los archivos**\n",
    "         \n",
    "- La distribución del tamaño de archivo es variada, con una media de 1.79 MB y un rango que va desde 0.41 MB hasta 22 MB.\n",
    "\n",
    "- Se decide segmentar los datos en dos grupos: archivos menores a 5MB y archivos mayores a 5MB. \n",
    "\n",
    "- Los mayores seran retirados del dataset ya que no representan una mejoria significativa en cuanto a calidad de imagen para el modelo."
   ]
  },
  {
   "cell_type": "code",
   "execution_count": null,
   "metadata": {},
   "outputs": [],
   "source": [
    "import os\n",
    "import shutil\n",
    "\n",
    "def move_large_files(source_dir, target_dir, threshold_size=5):\n",
    "    \"\"\"\n",
    "    Mueve todos los archivos en `source_dir` que sean mayores que `threshold_size` (en MB) a `target_dir`.\n",
    "    \n",
    "    :param source_dir: Ruta del directorio origen.\n",
    "    :param target_dir: Ruta del directorio destino.\n",
    "    :param threshold_size: Tamaño umbral en MB.\n",
    "    \"\"\"\n",
    "    \n",
    "    # Asegurarse de que el directorio destino existe\n",
    "    if not os.path.exists(target_dir):\n",
    "        os.makedirs(target_dir)\n",
    "\n",
    "    # Listar todos los archivos en el directorio origen\n",
    "    for filename in os.listdir(source_dir):\n",
    "        file_path = os.path.join(source_dir, filename)\n",
    "        \n",
    "        # Verificar si es un archivo (y no un subdirectorio)\n",
    "        if os.path.isfile(file_path):\n",
    "            file_size = os.path.getsize(file_path) / (1024 * 1024)  # Convertir el tamaño a MB\n",
    "            \n",
    "            # Si el archivo supera el umbral, moverlo al directorio destino\n",
    "            if file_size > threshold_size:\n",
    "                shutil.move(file_path, os.path.join(target_dir, filename))\n",
    "                print(f\"Archivo {filename} movido a {target_dir}\")\n",
    "\n",
    "# Ejemplo de uso:\n",
    "source_directory = r\"C:\\Users\\HP\\My Drive\\Inteligencia Artificial\\PROJECTS\\ML Ops - House24 - Form Recognizer\\Layer2 - Pdf_dataset\\Training Dataset\\high_qtly_data\"\n",
    "destination_directory = r\"C:\\Users\\HP\\My Drive\\Inteligencia Artificial\\PROJECTS\\ML Ops - House24 - Form Recognizer\\Layer2 - Pdf_dataset\\backup\"\n",
    "move_large_files(source_directory, destination_directory)"
   ]
  },
  {
   "cell_type": "markdown",
   "metadata": {},
   "source": [
    "## 4 - Subdivision en carpetas "
   ]
  },
  {
   "cell_type": "markdown",
   "metadata": {},
   "source": [
    "Se realiza una subdivicion de los archivos en carpetas de hasta 1GB de espacio en disco cada una."
   ]
  },
  {
   "cell_type": "code",
   "execution_count": 2,
   "metadata": {},
   "outputs": [
    {
     "name": "stderr",
     "output_type": "stream",
     "text": [
      "Moviendo archivos: 100%|██████████| 6192/6192 [00:11<00:00, 540.00archivo/s]\n"
     ]
    }
   ],
   "source": [
    "import os\n",
    "import shutil\n",
    "from tqdm import tqdm\n",
    "\n",
    "CARPETA_ORIGEN = r'C:\\Users\\HP\\My Drive\\Inteligencia Artificial\\PROJECTS\\ML Ops - House24 - Form Recognizer\\Layer3 -Pdf_dataset\\Training Dataset\\high_qtly_data'  # Ejemplo: '/home/usuario/mis_archivos'\n",
    "CARPETA_DESTINO = r'C:\\Users\\HP\\My Drive\\Inteligencia Artificial\\PROJECTS\\ML Ops - House24 - Form Recognizer\\Layer3 -Pdf_dataset\\Training Dataset\\high_qtly_data'  # Ejemplo: '/home/usuario/mis_archivos_organizados'\n",
    "LIMITE = 1 * 1024 * 1024 * 1024  # 1 GB\n",
    "\n",
    "\n",
    "def obtener_tamaño_archivo(path):\n",
    "    return os.path.getsize(path)\n",
    "\n",
    "\n",
    "def mover_archivos():\n",
    "    if not os.path.exists(CARPETA_DESTINO):\n",
    "        os.makedirs(CARPETA_DESTINO)\n",
    "\n",
    "    archivos = [f for f in os.listdir(CARPETA_ORIGEN) if os.path.isfile(os.path.join(CARPETA_ORIGEN, f))]\n",
    "    archivos.sort(key=lambda x: obtener_tamaño_archivo(os.path.join(CARPETA_ORIGEN, x)), reverse=True)\n",
    "\n",
    "    carpeta_actual_num = 1\n",
    "    carpeta_actual_tamaño = 0\n",
    "    carpeta_actual = os.path.join(CARPETA_DESTINO, f'carpeta_{carpeta_actual_num}')\n",
    "\n",
    "    for archivo in tqdm(archivos, desc=\"Moviendo archivos\", unit=\"archivo\"):\n",
    "        archivo_path = os.path.join(CARPETA_ORIGEN, archivo)\n",
    "        tamaño_archivo = obtener_tamaño_archivo(archivo_path)\n",
    "\n",
    "        # Si agregar este archivo supera el límite, crea una nueva carpeta\n",
    "        if carpeta_actual_tamaño + tamaño_archivo > LIMITE:\n",
    "            carpeta_actual_num += 1\n",
    "            carpeta_actual_tamaño = 0\n",
    "            carpeta_actual = os.path.join(CARPETA_DESTINO, f'carpeta_{carpeta_actual_num}')\n",
    "\n",
    "        # Crea la carpeta si aún no existe\n",
    "        if not os.path.exists(carpeta_actual):\n",
    "            os.makedirs(carpeta_actual)\n",
    "\n",
    "        # Mover el archivo\n",
    "        shutil.move(archivo_path, os.path.join(carpeta_actual, archivo))\n",
    "\n",
    "        carpeta_actual_tamaño += tamaño_archivo\n",
    "\n",
    "\n",
    "if __name__ == \"__main__\":\n",
    "    mover_archivos()\n"
   ]
  },
  {
   "cell_type": "markdown",
   "metadata": {},
   "source": [
    "## Analisis\n",
    "\n",
    "El conjunto de datos analizado contiene información sobre archivos que varían en tamaño, resolución y cantidad de páginas. Al observar los datos, se toma la determinacion de separar los archivos mayores a 5MB ya que en cuanto a calidad de imagen no representan una mejoria significativa para el modelo.\n",
    "\n",
    "- **Cantidad de Archivos**\n",
    "\n",
    "        Tenemos un total de 6,416 archivos en el dataset.\n",
    "\n",
    "- **Tamaño de las Páginas**\n",
    "\n",
    "        La mayoría de los archivos tienen al menos 3 páginas, con una media de 3.65 páginas por archivo. Sin embargo, algunos archivos contienen hasta 27 páginas.\n",
    "    \n",
    "        La distribución del tamaño de archivo es variada, con una media de 1.79 MB y un rango que va desde 0.41 MB hasta 22 MB.\n",
    "\n",
    "- **Subdivision en carpetas de 1GB**        \n",
    "        \n",
    "        Se dividio el dataset de alta calidad en 10 carpetas de hasta 1GB de espacio ocupado en disco. Se realizara un posterior analisis de los atributos generales de cada carpeta para determinar si es necesario realizar un balanceo de datos."
   ]
  },
  {
   "cell_type": "markdown",
   "metadata": {},
   "source": [
    "## 5- Analisis de las 10 carpetas de High Quality Data"
   ]
  },
  {
   "cell_type": "code",
   "execution_count": 4,
   "metadata": {},
   "outputs": [
    {
     "name": "stdout",
     "output_type": "stream",
     "text": [
      "Información escrita en HQ_data_folder_info.csv\n"
     ]
    }
   ],
   "source": [
    "import os\n",
    "import csv\n",
    "\n",
    "CARPETA_RAIZ = r'C:\\Users\\HP\\My Drive\\Inteligencia Artificial\\PROJECTS\\ML Ops - House24 - Form Recognizer\\Layer3 -Pdf_dataset\\Training Dataset\\high_qtly_data'\n",
    "NOMBRE_CSV = \"HQ_data_folder_info.csv\"\n",
    "\n",
    "def obtener_tamaño_carpeta(path):\n",
    "    \"\"\"Devuelve el tamaño total de la carpeta especificada, incluyendo su contenido.\"\"\"\n",
    "    total = 0\n",
    "    for dirpath, dirnames, filenames in os.walk(path):\n",
    "        for f in filenames:\n",
    "            fp = os.path.join(dirpath, f)\n",
    "            total += os.path.getsize(fp)\n",
    "    return total\n",
    "\n",
    "def obtener_cantidad_archivos(path):\n",
    "    \"\"\"Devuelve la cantidad de archivos en la carpeta especificada.\"\"\"\n",
    "    return sum([len(files) for _, _, files in os.walk(path)])\n",
    "\n",
    "def generar_csv():\n",
    "    with open(NOMBRE_CSV, 'w', newline='') as csvfile:\n",
    "        writer = csv.writer(csvfile)\n",
    "        writer.writerow([\"Carpeta\", \"Tamaño (bytes)\", \"Cantidad de archivos\"])\n",
    "\n",
    "        # Recorre la carpeta raíz y sus subcarpetas\n",
    "        for dirpath, _, _ in os.walk(CARPETA_RAIZ):\n",
    "            nombre_carpeta = os.path.basename(dirpath)\n",
    "            tamaño_carpeta = obtener_tamaño_carpeta(dirpath)\n",
    "            cantidad_archivos = obtener_cantidad_archivos(dirpath)\n",
    "            writer.writerow([nombre_carpeta, tamaño_carpeta, cantidad_archivos])\n",
    "\n",
    "if __name__ == \"__main__\":\n",
    "    generar_csv()\n",
    "    print(f\"Información escrita en {NOMBRE_CSV}\")"
   ]
  },
  {
   "cell_type": "markdown",
   "metadata": {},
   "source": [
    "Lectura de datos"
   ]
  },
  {
   "cell_type": "code",
   "execution_count": 6,
   "metadata": {},
   "outputs": [
    {
     "name": "stdout",
     "output_type": "stream",
     "text": [
      "['Carpeta', 'Tamaño (bytes)', 'Cantidad de archivos']\n",
      "['high_qtly_data', '10550254315', '6192']\n",
      "['carpeta_1', '1073602094', '243']\n",
      "['carpeta_10', '893343063', '1098']\n",
      "['carpeta_2', '1072462001', '320']\n",
      "['carpeta_3', '1072846783', '388']\n",
      "['carpeta_4', '1072913121', '461']\n",
      "['carpeta_5', '1073701889', '534']\n",
      "['carpeta_6', '1072798012', '621']\n",
      "['carpeta_7', '1072791222', '726']\n",
      "['carpeta_8', '1072579943', '829']\n",
      "['carpeta_9', '1073216187', '972']\n"
     ]
    }
   ],
   "source": [
    "import csv\n",
    "\n",
    "def leer_csv(ruta_archivo):\n",
    "    with open(ruta_archivo, 'r', newline='') as archivo:\n",
    "        lector = csv.reader(archivo)\n",
    "        \n",
    "        for fila in lector:\n",
    "            print(fila)\n",
    "\n",
    "if __name__ == \"__main__\":\n",
    "    ruta_archivo = r'C:\\Users\\HP\\My Drive\\Inteligencia Artificial\\PROJECTS\\ML Ops - House24 - Form Recognizer\\Layer3 -Pdf_dataset\\HQ_data_folder_info.csv'\n",
    "    leer_csv(ruta_archivo)\n"
   ]
  },
  {
   "cell_type": "markdown",
   "metadata": {},
   "source": [
    "Analisis: A partir de los datos obtenidos, se puede observar que la distribucion de los datos es bastante homogenea,si bien no es necesario realizar un balanceo de datos, se decide realizar una ultima modificacion a la hora de elegir los mejores archivos para el entrenamiento del modelo."
   ]
  },
  {
   "cell_type": "markdown",
   "metadata": {},
   "source": [
    "## 6- Maximizacion de archivos."
   ]
  },
  {
   "cell_type": "markdown",
   "metadata": {},
   "source": [
    "Se decide seleccionar la mayor cantidad posible de archivos que ocupen un espacio en disco menor a 1GB"
   ]
  },
  {
   "cell_type": "code",
   "execution_count": 7,
   "metadata": {},
   "outputs": [],
   "source": [
    "import os\n",
    "import shutil\n",
    "\n",
    "CARPETA_ORIGEN = r'C:\\Users\\HP\\My Drive\\Inteligencia Artificial\\PROJECTS\\ML Ops - House24 - Form Recognizer\\Layer3 -Pdf_dataset\\Training Dataset\\high_qtly_data'\n",
    "CARPETA_DESTINO = 'data_to_train'\n",
    "LIMITE = 1 * 1024 * 1024 * 1024  # 1 GB\n",
    "\n",
    "def obtener_tamaño_archivo(path):\n",
    "    return os.path.getsize(path)\n",
    "\n",
    "def mover_archivos():\n",
    "    if not os.path.exists(CARPETA_DESTINO):\n",
    "        os.makedirs(CARPETA_DESTINO)\n",
    "\n",
    "    archivos = [(os.path.join(dp, f), f) for dp, dn, filenames in os.walk(CARPETA_ORIGEN) for f in filenames]\n",
    "    archivos.sort(key=lambda x: obtener_tamaño_archivo(x[0]))\n",
    "\n",
    "    total_tamaño_actual = 0\n",
    "\n",
    "    for ruta_completa, archivo in archivos:\n",
    "        tamaño_archivo = obtener_tamaño_archivo(ruta_completa)\n",
    "\n",
    "        # Si agregar este archivo supera el límite, se detiene la operación\n",
    "        if total_tamaño_actual + tamaño_archivo > LIMITE:\n",
    "            break\n",
    "\n",
    "        # Copiar el archivo\n",
    "        shutil.copy2(ruta_completa, os.path.join(CARPETA_DESTINO, archivo))\n",
    "\n",
    "        total_tamaño_actual += tamaño_archivo\n",
    "\n",
    "if __name__ == \"__main__\":\n",
    "    mover_archivos()\n"
   ]
  },
  {
   "cell_type": "markdown",
   "metadata": {},
   "source": [
    "## Conclusion final:"
   ]
  },
  {
   "cell_type": "markdown",
   "metadata": {},
   "source": [
    "Tras ejecutar el proceso de selección y copiado de archivos, hemos obtenido un total de 1.278 archivos que han sido depositados en la carpeta \"data_to_train\". Esta selección ha sido meticulosamente realizada para garantizar que la carpeta no excediera el límite de 1 GB, permitiendo de esta manera una gestión eficiente de los datos.\n",
    "\n",
    "Los 1.278 archivos contenidos en \"data_to_train\" representan una amalgama de información valiosa que se utilizará como conjunto de datos para entrenar nuestro modelo. Es esencial recalcar la importancia de la calidad y cantidad de los datos en la fase de entrenamiento, ya que estos juegan un papel crucial en la precisión y eficacia del modelo final. Al haber sido extraídos de la carpeta \"high_qtly_data\", podemos estar seguros de que estamos utilizando datos de alta calidad para este propósito.\n",
    "\n",
    "En próximos pasos, se procederá con el entrenamiento del modelo utilizando este conjunto de datos. Es una oportunidad emocionante para ver cómo nuestro modelo se desempeña y aprende a partir de la información contenida en estos archivos. Estaremos atentos a los resultados y optimizaciones que puedan surgir a lo largo del proceso."
   ]
  }
 ],
 "metadata": {
  "kernelspec": {
   "display_name": "base",
   "language": "python",
   "name": "python3"
  },
  "language_info": {
   "codemirror_mode": {
    "name": "ipython",
    "version": 3
   },
   "file_extension": ".py",
   "mimetype": "text/x-python",
   "name": "python",
   "nbconvert_exporter": "python",
   "pygments_lexer": "ipython3",
   "version": "3.11.4"
  }
 },
 "nbformat": 4,
 "nbformat_minor": 2
}
